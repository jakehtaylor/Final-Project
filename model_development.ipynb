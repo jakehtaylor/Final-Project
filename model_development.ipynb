{
 "cells": [
  {
   "cell_type": "code",
   "execution_count": 1,
   "metadata": {},
   "outputs": [],
   "source": [
    "import pandas as pd\n",
    "%matplotlib inline\n",
    "import matplotlib.pyplot as plt\n",
    "import numpy as np\n",
    "import warnings\n",
    "warnings.filterwarnings('ignore')"
   ]
  },
  {
   "cell_type": "code",
   "execution_count": 2,
   "metadata": {},
   "outputs": [],
   "source": [
    "# Load the Math and Portuguese data\n",
    "math_df = pd.read_csv(\"data/student-mat.csv\", sep=';')\n",
    "port_df = pd.read_csv(\"data/student-por.csv\", sep=';')"
   ]
  },
  {
   "cell_type": "code",
   "execution_count": 3,
   "metadata": {},
   "outputs": [],
   "source": [
    "# Combine the data\n",
    "student_data_df = pd.concat([math_df,port_df])"
   ]
  },
  {
   "cell_type": "code",
   "execution_count": 4,
   "metadata": {},
   "outputs": [],
   "source": [
    "# Rename columns\n",
    "student_data_df.columns = ['school','sex','age','address','family_size_>_3','parents_status','mother_education','father_education',\n",
    "           'mother_job','father_job','reason','guardian','travel_time','study_time','failures','school_support',\n",
    "          'family_support','paid_classes','extra_activities','nursery_school','wants_higher_edu','internet','romantic','family_relation',\n",
    "          'free_time','go_out','weekday_alcohol','weekend_alcohol','health','absences','Q1_score','Q2_score','final_score']\n"
   ]
  },
  {
   "cell_type": "code",
   "execution_count": 5,
   "metadata": {},
   "outputs": [],
   "source": [
    "# Create final grade and pass/fail columns for letter grades A:18-20 B:16-17 C:14-15 D:12-13 & F<12\n",
    "student_data_df['final_letter_grade'] = 'None'\n",
    "student_data_df.loc[(student_data_df.final_score >= 16) & (student_data_df.final_score <= 20), 'final_letter_grade'] = 'A' \n",
    "student_data_df.loc[(student_data_df.final_score >= 14) & (student_data_df.final_score <= 15), 'final_letter_grade'] = 'B'\n",
    "student_data_df.loc[(student_data_df.final_score >= 12) & (student_data_df.final_score <= 13), 'final_letter_grade'] = 'C' \n",
    "student_data_df.loc[(student_data_df.final_score >= 10) & (student_data_df.final_score <= 11), 'final_letter_grade'] = 'D' \n",
    "student_data_df.loc[(student_data_df.final_score >= 0) & (student_data_df.final_score < 10), 'final_letter_grade'] = 'F' \n",
    "\n",
    "student_data_df['Pass_Fail'] = 'None'\n",
    "student_data_df.loc[student_data_df.final_letter_grade != 'F', 'Pass_Fail'] = 'Pass'\n",
    "student_data_df.loc[student_data_df.final_letter_grade == 'F', 'Pass_Fail'] = 'Fail'"
   ]
  },
  {
   "cell_type": "code",
   "execution_count": 6,
   "metadata": {},
   "outputs": [],
   "source": [
    "#encode all columns\n",
    "student_data_df['school'] = [1 if x == 'GP' else 0 for x in student_data_df['school']]\n",
    "student_data_df['sex'] = [1 if x == 'M' else 0 for x in student_data_df['sex']]\n",
    "student_data_df['family_size_>_3'] = [1 if x == 'GT3' else 0 for x in student_data_df['family_size_>_3']]\n",
    "student_data_df['address'] = [1 if x == 'U' else 0 for x in student_data_df['address']]\n",
    "student_data_df['parents_status'] = [1 if x == 'T' else 0 for x in student_data_df['parents_status']]\n",
    "student_data_df['school_support'] = [1 if x == 'yes' else 0 for x in student_data_df['school_support']]\n",
    "student_data_df['family_support'] = [1 if x == 'yes' else 0 for x in student_data_df['family_support']]\n",
    "student_data_df['paid_classes'] = [1 if x == 'yes' else 0 for x in student_data_df['paid_classes']]\n",
    "student_data_df['extra_activities'] = [1 if x == 'yes' else 0 for x in student_data_df['extra_activities']]\n",
    "student_data_df['nursery_school'] = [1 if x == 'yes' else 0 for x in student_data_df['nursery_school']]\n",
    "student_data_df['wants_higher_edu'] = [1 if x == 'yes' else 0 for x in student_data_df['wants_higher_edu']]\n",
    "student_data_df['romantic'] = [1 if x == 'yes' else 0 for x in student_data_df['romantic']]\n",
    "student_data_df['internet'] = [1 if x == 'yes' else 0 for x in student_data_df['internet']]\n",
    "student_data_df['guardian'] = [1 if x == 'mother' else 0 for x in student_data_df['guardian']]"
   ]
  },
  {
   "cell_type": "markdown",
   "metadata": {},
   "source": [
    "## Neural Network for Pass/Fail or Final Letter Grade ##"
   ]
  },
  {
   "cell_type": "code",
   "execution_count": 7,
   "metadata": {},
   "outputs": [],
   "source": [
    "from sklearn.preprocessing import StandardScaler, LabelEncoder, MinMaxScaler\n",
    "from sklearn.model_selection import train_test_split\n",
    "from tensorflow.keras.utils import to_categorical\n",
    "from tensorflow.keras.models import Sequential\n",
    "from tensorflow.keras.layers import Dense"
   ]
  },
  {
   "cell_type": "code",
   "execution_count": 8,
   "metadata": {},
   "outputs": [],
   "source": [
    "X = student_data_df.drop(['Q1_score', 'Q2_score', 'final_score', 'final_letter_grade', 'Pass_Fail'], axis=1)\n",
    "X = pd.get_dummies(X, columns=['mother_job','father_job','reason'])\n",
    "#y = student_data_df['final_letter_grade']\n",
    "y = student_data_df['Pass_Fail']\n",
    "X.shape, y.shape\n",
    "\n",
    "label_encoder = LabelEncoder()\n",
    "label_encoder.fit(y)\n",
    "encoded_y = label_encoder.transform(y)"
   ]
  },
  {
   "cell_type": "code",
   "execution_count": 9,
   "metadata": {},
   "outputs": [],
   "source": [
    "X_train, X_test, y_train, y_test = train_test_split(X, encoded_y)"
   ]
  },
  {
   "cell_type": "code",
   "execution_count": 10,
   "metadata": {},
   "outputs": [],
   "source": [
    "X_scaler = StandardScaler().fit(X_train)"
   ]
  },
  {
   "cell_type": "code",
   "execution_count": 11,
   "metadata": {},
   "outputs": [],
   "source": [
    "X_train_scaled = X_scaler.transform(X_train)\n",
    "X_test_scaled = X_scaler.transform(X_test)"
   ]
  },
  {
   "cell_type": "code",
   "execution_count": 12,
   "metadata": {},
   "outputs": [],
   "source": [
    "y_train_categorical = to_categorical(y_train)\n",
    "y_test_categorical = to_categorical(y_test)"
   ]
  },
  {
   "cell_type": "code",
   "execution_count": 13,
   "metadata": {},
   "outputs": [],
   "source": [
    "model = Sequential()\n",
    "model.add(Dense(units=41, activation='relu', input_dim=41))\n",
    "model.add(Dense(units=20, activation='relu'))\n",
    "model.add(Dense(units=2, activation='softmax'))\n",
    "\n",
    "model.compile(optimizer='adam',\n",
    "              loss='binary_crossentropy',\n",
    "              metrics=['accuracy'])"
   ]
  },
  {
   "cell_type": "code",
   "execution_count": 14,
   "metadata": {},
   "outputs": [
    {
     "name": "stdout",
     "output_type": "stream",
     "text": [
      "Epoch 1/25\n",
      "783/783 - 1s - loss: 0.5328 - accuracy: 0.7931\n",
      "Epoch 2/25\n",
      "783/783 - 1s - loss: 0.4370 - accuracy: 0.8123\n",
      "Epoch 3/25\n",
      "783/783 - 1s - loss: 0.3950 - accuracy: 0.8289\n",
      "Epoch 4/25\n",
      "783/783 - 1s - loss: 0.3570 - accuracy: 0.8467\n",
      "Epoch 5/25\n",
      "783/783 - 1s - loss: 0.3183 - accuracy: 0.8570\n",
      "Epoch 6/25\n",
      "783/783 - 1s - loss: 0.2856 - accuracy: 0.8723\n",
      "Epoch 7/25\n",
      "783/783 - 1s - loss: 0.2703 - accuracy: 0.8876\n",
      "Epoch 8/25\n",
      "783/783 - 1s - loss: 0.2385 - accuracy: 0.8978\n",
      "Epoch 9/25\n",
      "783/783 - 1s - loss: 0.2019 - accuracy: 0.9195\n",
      "Epoch 10/25\n",
      "783/783 - 1s - loss: 0.1872 - accuracy: 0.9208\n",
      "Epoch 11/25\n",
      "783/783 - 1s - loss: 0.1642 - accuracy: 0.9323\n",
      "Epoch 12/25\n",
      "783/783 - 1s - loss: 0.1528 - accuracy: 0.9361\n",
      "Epoch 13/25\n",
      "783/783 - 1s - loss: 0.1352 - accuracy: 0.9476\n",
      "Epoch 14/25\n",
      "783/783 - 1s - loss: 0.1260 - accuracy: 0.9553\n",
      "Epoch 15/25\n",
      "783/783 - 1s - loss: 0.1101 - accuracy: 0.9604\n",
      "Epoch 16/25\n",
      "783/783 - 1s - loss: 0.1048 - accuracy: 0.9668\n",
      "Epoch 17/25\n",
      "783/783 - 1s - loss: 0.0925 - accuracy: 0.9617\n",
      "Epoch 18/25\n",
      "783/783 - 1s - loss: 0.0901 - accuracy: 0.9706\n",
      "Epoch 19/25\n",
      "783/783 - 2s - loss: 0.0993 - accuracy: 0.9668\n",
      "Epoch 20/25\n",
      "783/783 - 1s - loss: 0.0835 - accuracy: 0.9681\n",
      "Epoch 21/25\n",
      "783/783 - 1s - loss: 0.0854 - accuracy: 0.9655\n",
      "Epoch 22/25\n",
      "783/783 - 1s - loss: 0.0868 - accuracy: 0.9642\n",
      "Epoch 23/25\n",
      "783/783 - 1s - loss: 0.0716 - accuracy: 0.9693\n",
      "Epoch 24/25\n",
      "783/783 - 1s - loss: 0.0806 - accuracy: 0.9693\n",
      "Epoch 25/25\n",
      "783/783 - 2s - loss: 0.0879 - accuracy: 0.9630\n"
     ]
    },
    {
     "data": {
      "text/plain": [
       "<tensorflow.python.keras.callbacks.History at 0x1a3c256518>"
      ]
     },
     "execution_count": 14,
     "metadata": {},
     "output_type": "execute_result"
    }
   ],
   "source": [
    "model.fit(\n",
    "    X_train_scaled,\n",
    "    y_train_categorical,\n",
    "    epochs=25,\n",
    "    shuffle=True,\n",
    "    verbose=2,\n",
    "    batch_size=1\n",
    ")"
   ]
  },
  {
   "cell_type": "code",
   "execution_count": 15,
   "metadata": {},
   "outputs": [
    {
     "name": "stdout",
     "output_type": "stream",
     "text": [
      "261/261 - 0s - loss: 1.1364 - accuracy: 0.6935\n"
     ]
    }
   ],
   "source": [
    "model_loss, model_accuracy = model.evaluate(\n",
    "    X_test_scaled, y_test_categorical, verbose=2, batch_size=1)"
   ]
  },
  {
   "cell_type": "markdown",
   "metadata": {},
   "source": [
    "## RFN for Final Letter Grade ##"
   ]
  },
  {
   "cell_type": "code",
   "execution_count": 17,
   "metadata": {},
   "outputs": [
    {
     "data": {
      "text/plain": [
       "[(0.11136731806122678, 'absences'),\n",
       " (0.04535803911653775, 'age'),\n",
       " (0.04398797879050486, 'health'),\n",
       " (0.04366103987784114, 'go_out'),\n",
       " (0.04237539531771746, 'weekend_alcohol'),\n",
       " (0.04185932421078391, 'paid_classes'),\n",
       " (0.04155027455935364, 'free_time'),\n",
       " (0.04143439151797037, 'father_education'),\n",
       " (0.04137664337704923, 'failures'),\n",
       " (0.039529356829083824, 'mother_education'),\n",
       " (0.035945780444507844, 'family_relation'),\n",
       " (0.03543719674591009, 'study_time'),\n",
       " (0.0264232360422707, 'travel_time'),\n",
       " (0.02330856701035836, 'weekday_alcohol'),\n",
       " (0.01992830429476781, 'extra_activities'),\n",
       " (0.01975181748448346, 'romantic'),\n",
       " (0.01963265744385782, 'family_size_>_3'),\n",
       " (0.019618731149951538, 'family_support'),\n",
       " (0.019478425987999728, 'sex'),\n",
       " (0.01839526208725529, 'reason_course'),\n",
       " (0.01780438982429667, 'father_job_other'),\n",
       " (0.017519228366084383, 'mother_job_other'),\n",
       " (0.017431700284985283, 'guardian'),\n",
       " (0.016104718699134535, 'school'),\n",
       " (0.015836847270481746, 'reason_reputation'),\n",
       " (0.015568392896637528, 'nursery_school'),\n",
       " (0.01526528201307572, 'address'),\n",
       " (0.015103316844231385, 'father_job_services'),\n",
       " (0.014720210006837575, 'mother_job_services'),\n",
       " (0.01467805908576885, 'reason_home'),\n",
       " (0.014342985574415273, 'school_support'),\n",
       " (0.014022093879021463, 'internet'),\n",
       " (0.012885440393309014, 'mother_job_at_home'),\n",
       " (0.011610143433265165, 'wants_higher_edu'),\n",
       " (0.011362460551075305, 'parents_status'),\n",
       " (0.010145601376348887, 'mother_job_teacher'),\n",
       " (0.009575502454611196, 'reason_other'),\n",
       " (0.008185191764664076, 'mother_job_health'),\n",
       " (0.007301478557635213, 'father_job_at_home'),\n",
       " (0.006652630674491437, 'father_job_teacher'),\n",
       " (0.0034645857001977093, 'father_job_health')]"
      ]
     },
     "execution_count": 17,
     "metadata": {},
     "output_type": "execute_result"
    }
   ],
   "source": [
    "from sklearn.ensemble import RandomForestClassifier\n",
    "rf = RandomForestClassifier(n_estimators=300)\n",
    "\n",
    "X = student_data_df.drop(['Q1_score', 'Q2_score', 'final_score', 'final_letter_grade', 'Pass_Fail'], axis=1)\n",
    "X = pd.get_dummies(X, columns=['mother_job','father_job','reason'])\n",
    "y = student_data_df['final_letter_grade']\n",
    "\n",
    "label_encoder = LabelEncoder()\n",
    "label_encoder.fit(y)\n",
    "encoded_y = label_encoder.transform(y)\n",
    "X_train, X_test, y_train, y_test = train_test_split(X, encoded_y, random_state=0)\n",
    "X_scaler = StandardScaler().fit(X_train)\n",
    "X_train_scaled = X_scaler.transform(X_train)\n",
    "X_test_scaled = X_scaler.transform(X_test)\n",
    "y_train_categorical = to_categorical(y_train)\n",
    "y_test_categorical = to_categorical(y_test)\n",
    "rf.fit(X_train_scaled, y_train_categorical)\n",
    "sorted(zip(rf.feature_importances_, X_train.columns), reverse=True)"
   ]
  },
  {
   "cell_type": "code",
   "execution_count": 18,
   "metadata": {},
   "outputs": [
    {
     "data": {
      "text/plain": [
       "0.9731800766283525"
      ]
     },
     "execution_count": 18,
     "metadata": {},
     "output_type": "execute_result"
    }
   ],
   "source": [
    "rf.score(X_train_scaled, y_train_categorical)"
   ]
  },
  {
   "cell_type": "code",
   "execution_count": 19,
   "metadata": {},
   "outputs": [
    {
     "data": {
      "text/plain": [
       "0.16475095785440613"
      ]
     },
     "execution_count": 19,
     "metadata": {},
     "output_type": "execute_result"
    }
   ],
   "source": [
    "rf.score(X_test_scaled, y_test_categorical)"
   ]
  },
  {
   "cell_type": "markdown",
   "metadata": {},
   "source": [
    "## RFN for Pass/Fail ##"
   ]
  },
  {
   "cell_type": "code",
   "execution_count": 20,
   "metadata": {},
   "outputs": [],
   "source": [
    "from sklearn.ensemble import RandomForestClassifier\n",
    "\n",
    "X = student_data_df.drop(['Q1_score', 'Q2_score', 'final_score', 'final_letter_grade', 'Pass_Fail'], axis=1)\n",
    "X = pd.get_dummies(X, columns=['mother_job','father_job','reason'])\n",
    "y = student_data_df['Pass_Fail']\n",
    "\n",
    "label_encoder = LabelEncoder()\n",
    "label_encoder.fit(y)\n",
    "encoded_y = label_encoder.transform(y)\n",
    "X_train, X_test, y_train, y_test = train_test_split(X, encoded_y, random_state=0)\n",
    "X_scaler = StandardScaler().fit(X_train)\n",
    "X_train_scaled = X_scaler.transform(X_train)\n",
    "X_test_scaled = X_scaler.transform(X_test)\n",
    "y_train_categorical = to_categorical(y_train)\n",
    "y_test_categorical = to_categorical(y_test)"
   ]
  },
  {
   "cell_type": "code",
   "execution_count": 21,
   "metadata": {},
   "outputs": [
    {
     "data": {
      "text/plain": [
       "[(0.11747013622480948, 'absences'),\n",
       " (0.10579236939286533, 'failures'),\n",
       " (0.042476998554522194, 'age'),\n",
       " (0.04142439874052478, 'go_out'),\n",
       " (0.03940410454311976, 'free_time'),\n",
       " (0.038489223754817295, 'weekend_alcohol'),\n",
       " (0.0356254687658135, 'family_relation'),\n",
       " (0.03514892492075193, 'health'),\n",
       " (0.03481270793686856, 'mother_education'),\n",
       " (0.03426807031724901, 'paid_classes'),\n",
       " (0.0313997140515763, 'father_education'),\n",
       " (0.030776674582565965, 'study_time'),\n",
       " (0.026161452026830026, 'travel_time'),\n",
       " (0.022728096530621848, 'weekday_alcohol'),\n",
       " (0.02055544904720052, 'school'),\n",
       " (0.020262067112090793, 'wants_higher_edu'),\n",
       " (0.020221960249328076, 'romantic'),\n",
       " (0.017664786268189306, 'address'),\n",
       " (0.01713266241998275, 'sex'),\n",
       " (0.016846372509184224, 'extra_activities'),\n",
       " (0.016044142750599514, 'family_size_>_3'),\n",
       " (0.01598874014982391, 'guardian'),\n",
       " (0.015983586986138297, 'internet'),\n",
       " (0.01585579049062983, 'reason_course'),\n",
       " (0.015817896732756444, 'mother_job_other'),\n",
       " (0.01569738239346182, 'school_support'),\n",
       " (0.01560171454791282, 'family_support'),\n",
       " (0.015384750069822874, 'nursery_school'),\n",
       " (0.013913599378365542, 'father_job_services'),\n",
       " (0.013668803892224565, 'reason_home'),\n",
       " (0.013180280039397236, 'father_job_other'),\n",
       " (0.011945205526313259, 'mother_job_services'),\n",
       " (0.011748815968182481, 'mother_job_at_home'),\n",
       " (0.011175652784639903, 'reason_reputation'),\n",
       " (0.00893397915770836, 'parents_status'),\n",
       " (0.008521723516127126, 'mother_job_teacher'),\n",
       " (0.007381682010059399, 'father_job_at_home'),\n",
       " (0.00732317111819932, 'mother_job_health'),\n",
       " (0.007163390181426458, 'reason_other'),\n",
       " (0.005156776365725013, 'father_job_health'),\n",
       " (0.004851277991574238, 'father_job_teacher')]"
      ]
     },
     "execution_count": 21,
     "metadata": {},
     "output_type": "execute_result"
    }
   ],
   "source": [
    "rf = RandomForestClassifier(n_estimators=200)\n",
    "rf.fit(X_train_scaled, y_train_categorical)\n",
    "sorted(zip(rf.feature_importances_, X_train.columns), reverse=True)"
   ]
  },
  {
   "cell_type": "code",
   "execution_count": 22,
   "metadata": {},
   "outputs": [
    {
     "data": {
      "text/plain": [
       "0.9936143039591315"
      ]
     },
     "execution_count": 22,
     "metadata": {},
     "output_type": "execute_result"
    }
   ],
   "source": [
    "rf.score(X_train_scaled, y_train_categorical)"
   ]
  },
  {
   "cell_type": "code",
   "execution_count": 23,
   "metadata": {},
   "outputs": [
    {
     "data": {
      "text/plain": [
       "0.8122605363984674"
      ]
     },
     "execution_count": 23,
     "metadata": {},
     "output_type": "execute_result"
    }
   ],
   "source": [
    "rf.score(X_test_scaled, y_test_categorical)"
   ]
  },
  {
   "cell_type": "markdown",
   "metadata": {},
   "source": [
    "## Linear Regression for Final Score ##"
   ]
  },
  {
   "cell_type": "code",
   "execution_count": 24,
   "metadata": {},
   "outputs": [],
   "source": [
    "from sklearn.linear_model import LinearRegression, LogisticRegression\n",
    "model = LinearRegression()\n",
    "\n",
    "X = student_data_df.drop(['Q1_score', 'Q2_score', 'final_score', 'final_letter_grade', 'Pass_Fail'], axis=1)\n",
    "X = pd.get_dummies(X, columns=['mother_job','father_job','reason'])\n",
    "y = student_data_df['final_score']\n",
    "\n",
    "X_train, X_test, y_train, y_test = train_test_split(X, y, random_state=0)\n",
    "X_scaler = StandardScaler().fit(X_train)\n",
    "X_train_scaled = X_scaler.transform(X_train)\n",
    "X_test_scaled = X_scaler.transform(X_test)"
   ]
  },
  {
   "cell_type": "code",
   "execution_count": 25,
   "metadata": {},
   "outputs": [
    {
     "data": {
      "text/plain": [
       "LinearRegression()"
      ]
     },
     "execution_count": 25,
     "metadata": {},
     "output_type": "execute_result"
    }
   ],
   "source": [
    "model.fit(X_train_scaled, y_train)"
   ]
  },
  {
   "cell_type": "code",
   "execution_count": 26,
   "metadata": {},
   "outputs": [
    {
     "name": "stdout",
     "output_type": "stream",
     "text": [
      "Training: 0.2271114933266679 \n",
      " Testing: 0.2889762968349635\n"
     ]
    },
    {
     "data": {
      "text/plain": [
       "<matplotlib.legend.Legend at 0x1178d70f0>"
      ]
     },
     "execution_count": 26,
     "metadata": {},
     "output_type": "execute_result"
    },
    {
     "data": {
      "image/png": "[encoded data removed]",
      "text/plain": [
       "<Figure size 432x288 with 1 Axes>"
      ]
     },
     "metadata": {
      "needs_background": "light"
     },
     "output_type": "display_data"
    }
   ],
   "source": [
    "training_score = model.score(X_train_scaled, y_train)\n",
    "testing_score = model.score(X_test_scaled, y_test)\n",
    "\n",
    "print(f\"Training: {training_score} \\n Testing: {testing_score}\")\n",
    "\n",
    "y_pred = model.predict(X_test_scaled)\n",
    "\n",
    "\n",
    "import seaborn as sb\n",
    "\n",
    "sb.distplot(y_pred, hist = False, color = 'r', label = 'Predicted Values')\n",
    "sb.distplot(y_test, hist = False, color = 'b', label = 'Actual Values')\n",
    "plt.title('Actual vs Predicted Values', fontsize = 16)\n",
    "plt.xlabel('Values', fontsize = 12)\n",
    "plt.ylabel('Frequency', fontsize = 12)\n",
    "plt.legend(loc = 'upper left', fontsize = 13)"
   ]
  },
  {
   "cell_type": "markdown",
   "metadata": {},
   "source": [
    "## Basic Logistic Regression for Pass/Fail ##"
   ]
  },
  {
   "cell_type": "code",
   "execution_count": 27,
   "metadata": {},
   "outputs": [],
   "source": [
    "model = LogisticRegression(solver='liblinear')\n",
    "\n",
    "X = student_data_df.drop(['Q1_score', 'Q2_score', 'final_score', 'final_letter_grade', 'Pass_Fail'], axis=1)\n",
    "X = pd.get_dummies(X, columns=['mother_job','father_job','reason'])\n",
    "y = student_data_df['Pass_Fail']\n",
    "label_encoder = LabelEncoder()\n",
    "label_encoder.fit(y)\n",
    "encoded_y = label_encoder.transform(y)\n",
    "\n",
    "X_train, X_test, y_train, y_test = train_test_split(X, y)\n",
    "X_scaler = StandardScaler().fit(X_train)\n",
    "X_train_scaled = X_scaler.transform(X_train)\n",
    "X_test_scaled = X_scaler.transform(X_test)"
   ]
  },
  {
   "cell_type": "code",
   "execution_count": 28,
   "metadata": {},
   "outputs": [
    {
     "data": {
      "text/plain": [
       "LogisticRegression(solver='liblinear')"
      ]
     },
     "execution_count": 28,
     "metadata": {},
     "output_type": "execute_result"
    }
   ],
   "source": [
    "model.fit(X_train_scaled, y_train)"
   ]
  },
  {
   "cell_type": "code",
   "execution_count": 29,
   "metadata": {},
   "outputs": [
    {
     "name": "stdout",
     "output_type": "stream",
     "text": [
      "Training: 0.80970625798212 \n",
      " Testing: 0.7931034482758621\n"
     ]
    }
   ],
   "source": [
    "training_score = model.score(X_train_scaled, y_train)\n",
    "testing_score = model.score(X_test_scaled, y_test)\n",
    "print(f\"Training: {training_score} \\n Testing: {testing_score}\")"
   ]
  },
  {
   "cell_type": "markdown",
   "metadata": {},
   "source": [
    " ## Optimized Logistic Regression ##"
   ]
  },
  {
   "cell_type": "code",
   "execution_count": 216,
   "metadata": {},
   "outputs": [
    {
     "name": "stdout",
     "output_type": "stream",
     "text": [
      "Accuracy of logistic regression classifier on test set: 0.91\n",
      "F1 of logistic regression classifier on test set: 0.92\n",
      "1333822816\n"
     ]
    }
   ],
   "source": [
    "from imblearn.over_sampling import SMOTE\n",
    "\n",
    "state = 1333822816\n",
    "\n",
    "X = student_data_df.drop(['Q1_score','Q2_score', 'final_score', 'final_letter_grade', 'Pass_Fail'], axis=1)\n",
    "X = pd.get_dummies(X, columns=['mother_job','father_job','reason'])\n",
    "y = student_data_df['Pass_Fail']\n",
    "label_encoder = LabelEncoder()\n",
    "label_encoder.fit(y)\n",
    "encoded_y = label_encoder.transform(y)\n",
    "\n",
    "os = SMOTE()\n",
    "X_train, X_test, y_train, y_test = train_test_split(X, encoded_y, test_size=0.3, random_state=state)\n",
    "columns = X_train.columns\n",
    "os_data_X,os_data_y=os.fit_sample(X_train, y_train)\n",
    "os_data_X = pd.DataFrame(data=os_data_X,columns=columns)\n",
    "os_data_y= pd.DataFrame(data=os_data_y,columns=['y'])\n",
    "\n",
    "from sklearn.feature_selection import RFE\n",
    "from sklearn.linear_model import LogisticRegression\n",
    "logreg = LogisticRegression(solver='liblinear')\n",
    "rfe = RFE(logreg, 20)\n",
    "rfe = rfe.fit(os_data_X, os_data_y.values.ravel())\n",
    "\n",
    "cols = []\n",
    "\n",
    "for i in range(len(columns)):\n",
    "    if rfe.support_[i]:\n",
    "        cols.append(columns[i])\n",
    "\n",
    "X = os_data_X[cols]\n",
    "y = os_data_y['y']\n",
    "\n",
    "X_train, X_test, y_train, y_test = train_test_split(X, y, test_size=0.3, random_state=state)\n",
    "logreg = LogisticRegression(solver='liblinear')\n",
    "logreg.fit(X_train, y_train)\n",
    "\n",
    "from sklearn.metrics import f1_score as f1\n",
    "\n",
    "y_pred = logreg.predict(X_test)\n",
    "print('Accuracy of logistic regression classifier on test set: {:.2f}'.format(logreg.score(X_test, y_test)))\n",
    "print('F1 of logistic regression classifier on test set: {:.2f}'.format(f1(y_test, y_pred)))"
   ]
  },
  {
   "cell_type": "code",
   "execution_count": 217,
   "metadata": {},
   "outputs": [],
   "source": [
    "import pickle\n",
    "Pkl_Filename = \"Test_Score_LR_v2.pkl\"  \n",
    "\n",
    "with open(Pkl_Filename, 'wb') as file:\n",
    "    pickle.dump(logreg, file)\n"
   ]
  },
  {
   "cell_type": "markdown",
   "metadata": {},
   "source": [
    "neural network and RFN were between 72 and 81"
   ]
  },
  {
   "cell_type": "markdown",
   "metadata": {},
   "source": [
    " by using Smote and RFE, we were able to shift the range of accuracy values from 76-84 to 82-90 with no test scores\n",
    " and 86-94 with the Q1 Score (and not Q2), and 91-96 with the Q2 score (and not Q1)"
   ]
  }
 ],
 "metadata": {
  "kernelspec": {
   "display_name": "Python 3",
   "language": "python",
   "name": "python3"
  },
  "language_info": {
   "codemirror_mode": {
    "name": "ipython",
    "version": 3
   },
   "file_extension": ".py",
   "mimetype": "text/x-python",
   "name": "python",
   "nbconvert_exporter": "python",
   "pygments_lexer": "ipython3",
   "version": "3.6.10"
  }
 },
 "nbformat": 4,
 "nbformat_minor": 4
}
